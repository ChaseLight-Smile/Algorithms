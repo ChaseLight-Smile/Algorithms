{
  "nbformat": 4,
  "nbformat_minor": 0,
  "metadata": {
    "colab": {
      "name": "tensorflow-pytorch-dataloader.ipynb",
      "provenance": [],
      "collapsed_sections": []
    },
    "kernelspec": {
      "name": "python3",
      "display_name": "Python 3"
    },
    "language_info": {
      "name": "python"
    }
  },
  "cells": [
    {
      "cell_type": "markdown",
      "metadata": {
        "id": "iV9rroQETG_I"
      },
      "source": [
        "**tensorflow**\n",
        "\n"
      ]
    },
    {
      "cell_type": "code",
      "metadata": {
        "id": "gcMdg-FjrlIt"
      },
      "source": [
        "import tensorflow as tf\n",
        "from tensorflow.keras import layers\n",
        "print(tf.__version__)\n",
        "print(tf.keras.__version__)"
      ],
      "execution_count": null,
      "outputs": []
    },
    {
      "cell_type": "code",
      "metadata": {
        "id": "N5tow1DD0BBl"
      },
      "source": [
        "model = tf.keras.Sequential()\n",
        "model.add(layers.Dense(32, activation='relu'))\n",
        "model.add(layers.Dense(32, activation='relu'))\n",
        "model.add(layers.Dense(10, activation='softmax'))\n",
        "\n",
        "model.compile(optimizer=tf.keras.optimizers.Adam(0.001),\n",
        "             loss=tf.keras.losses.categorical_crossentropy,\n",
        "             metrics=[tf.keras.metrics.categorical_accuracy])"
      ],
      "execution_count": 109,
      "outputs": []
    },
    {
      "cell_type": "code",
      "metadata": {
        "colab": {
          "base_uri": "https://localhost:8080/"
        },
        "id": "uDjA1m1h0Iy6",
        "outputId": "1f1d1560-8ae2-43ba-8c66-823d298c0f29"
      },
      "source": [
        "import numpy as np\n",
        "\n",
        "train_x = np.random.random((1000, 72))\n",
        "train_y = np.random.random((1000,10))\n",
        "\n",
        "val_x = np.random.random((200, 72))\n",
        "val_y = np.random.random((200,10))\n",
        "# model.fit(train_x, train_y, epochs=10, batch_size=100,\n",
        "#           validation_data=(val_x, val_y))\n",
        "\n",
        "# 自定义的数据集\n",
        "dataset = tf.data.Dataset.from_tensor_slices((train_x, train_y))\n",
        "dataset = dataset.batch(100)\n",
        "dataset = dataset.repeat()\n",
        "\n",
        "val_dataset = tf.data.Dataset.from_tensor_slices((val_x, val_y))\n",
        "val_dataset = val_dataset.batch(100)\n",
        "val_dataset = val_dataset.repeat()\n",
        "model.fit(dataset, epochs=10, steps_per_epoch=30,\n",
        "          validation_data=val_dataset, validation_steps=3)\n",
        "\n",
        "model.summary()"
      ],
      "execution_count": 111,
      "outputs": [
        {
          "output_type": "stream",
          "text": [
            "Epoch 1/10\n",
            "30/30 [==============================] - 0s 2ms/step - loss: 810.0200 - categorical_accuracy: 0.0963 - val_loss: 928.6476 - val_categorical_accuracy: 0.0700\n",
            "Epoch 2/10\n",
            "30/30 [==============================] - 0s 2ms/step - loss: 970.4234 - categorical_accuracy: 0.0900 - val_loss: 1103.9163 - val_categorical_accuracy: 0.0733\n",
            "Epoch 3/10\n",
            "30/30 [==============================] - 0s 2ms/step - loss: 1144.9083 - categorical_accuracy: 0.0890 - val_loss: 1290.6000 - val_categorical_accuracy: 0.0667\n",
            "Epoch 4/10\n",
            "30/30 [==============================] - 0s 2ms/step - loss: 1327.5924 - categorical_accuracy: 0.0950 - val_loss: 1492.8821 - val_categorical_accuracy: 0.0567\n",
            "Epoch 5/10\n",
            "30/30 [==============================] - 0s 3ms/step - loss: 1532.1871 - categorical_accuracy: 0.0943 - val_loss: 1713.8765 - val_categorical_accuracy: 0.0633\n",
            "Epoch 6/10\n",
            "30/30 [==============================] - 0s 2ms/step - loss: 1744.5278 - categorical_accuracy: 0.0917 - val_loss: 1934.4346 - val_categorical_accuracy: 0.0633\n",
            "Epoch 7/10\n",
            "30/30 [==============================] - 0s 2ms/step - loss: 1950.6422 - categorical_accuracy: 0.0880 - val_loss: 2146.0408 - val_categorical_accuracy: 0.0733\n",
            "Epoch 8/10\n",
            "30/30 [==============================] - 0s 2ms/step - loss: 2119.7668 - categorical_accuracy: 0.1103 - val_loss: 2268.3308 - val_categorical_accuracy: 0.0833\n",
            "Epoch 9/10\n",
            "30/30 [==============================] - 0s 2ms/step - loss: 2187.2866 - categorical_accuracy: 0.1020 - val_loss: 2294.1711 - val_categorical_accuracy: 0.1167\n",
            "Epoch 10/10\n",
            "30/30 [==============================] - 0s 3ms/step - loss: 2172.0884 - categorical_accuracy: 0.1003 - val_loss: 2225.2527 - val_categorical_accuracy: 0.0867\n",
            "Model: \"sequential_1\"\n",
            "_________________________________________________________________\n",
            "Layer (type)                 Output Shape              Param #   \n",
            "=================================================================\n",
            "dense_3 (Dense)              (None, 32)                2336      \n",
            "_________________________________________________________________\n",
            "dense_4 (Dense)              (None, 32)                1056      \n",
            "_________________________________________________________________\n",
            "dense_5 (Dense)              (None, 10)                330       \n",
            "=================================================================\n",
            "Total params: 3,722\n",
            "Trainable params: 3,722\n",
            "Non-trainable params: 0\n",
            "_________________________________________________________________\n"
          ],
          "name": "stdout"
        }
      ]
    },
    {
      "cell_type": "code",
      "metadata": {
        "id": "XnLAQgT0XB4E"
      },
      "source": [
        "test_x = np.random.random((1000, 72))\n",
        "test_y = np.random.random((1000, 10))\n",
        "model.evaluate(test_x, test_y, batch_size=32)\n",
        "test_data = tf.data.Dataset.from_tensor_slices((test_x, test_y))\n",
        "test_data = test_data.batch(32).repeat()\n",
        "model.evaluate(test_data, steps=30)"
      ],
      "execution_count": null,
      "outputs": []
    },
    {
      "cell_type": "markdown",
      "metadata": {
        "id": "6MY57_YO6ypk"
      },
      "source": [
        "**pytorch**"
      ]
    },
    {
      "cell_type": "code",
      "metadata": {
        "id": "Ezy5Xw4FUTRB"
      },
      "source": [
        "!pip install torchmetrics"
      ],
      "execution_count": null,
      "outputs": []
    },
    {
      "cell_type": "code",
      "metadata": {
        "id": "Y8zUpJQl2r7w"
      },
      "source": [
        "import torch\n",
        "import torch.nn as nn\n",
        "import torchmetrics\n",
        "import random\n",
        "from torch.utils.data import Dataset\n",
        "from torch.utils.data import DataLoader\n",
        "import numpy as np\n",
        "print(torch.__version__)"
      ],
      "execution_count": null,
      "outputs": []
    },
    {
      "cell_type": "code",
      "metadata": {
        "id": "aJR8l7rr3X_4"
      },
      "source": [
        "net = nn.Sequential(nn.Linear(72, 32), nn.ReLU(), nn.Linear(32, 32), nn.ReLU(), nn.Linear(32, 10)) \n",
        "\n",
        "# def data_iter(batch_size, features, labels):\n",
        "#   num_examples = len(features)\n",
        "#   indices = list(range(num_examples))\n",
        "#   random.shuffle(indices)\n",
        "#   for i in range(0, num_examples, batch_size):\n",
        "#     batch_indices = torch.tensor(indices[i:min(i+batch_size, num_examples)])\n",
        "#     yield features[batch_indices], labels[batch_indices]\n",
        "\n",
        "# 如何读到一条数据\n",
        "class CustomDataSet(Dataset):\n",
        "    def __init__(self, x, y, transform=None, target_transform=None):\n",
        "         self.features = x\n",
        "         self.labels = y\n",
        "\n",
        "    def __len__(self):\n",
        "         return len(self.features)\n",
        "\n",
        "    def __getitem__(self, idx):\n",
        "         #  self.features = torch.autograd.Variable(self.features, requires_grad = False)\n",
        "         #  self.features= self.features.data\n",
        "\n",
        "         # 上述两行的替代方法为self.features.detach_()， 也就是将数据的梯度信息去掉\n",
        "         self.features.detach_()\n",
        "         return self.features[idx], self.labels[idx]\n"
      ],
      "execution_count": 98,
      "outputs": []
    },
    {
      "cell_type": "code",
      "metadata": {
        "id": "MWQuREZ6385I"
      },
      "source": [
        "loss = nn.CrossEntropyLoss()\n",
        "\n",
        "optim =  torch.optim.Adam(net.parameters(), lr=0.001)\n",
        "\n",
        "# 准备数据\n",
        "train_x = torch.rand((1000, 72), requires_grad=True)\n",
        "# train_x = torch.rand((1000, 72))  # 如果train_x不追踪梯度，则self.features = torch.autograd.Variable(self.features, requires_grad = False) 和 self.features= self.features.data可以去掉\n",
        "train_y = torch.empty(1000, dtype=torch.long).random_(10)\n",
        "\n",
        "\n",
        "\n",
        "val_x = torch.rand((200, 72))\n",
        "val_y = torch.empty(200, dtype=torch.long).random_(10)\n",
        "\n",
        "# 如何以batch形式读到数据\n",
        "dataset = CustomDataSet(train_x, train_y)\n",
        "train_dataloader = DataLoader(dataset = dataset, batch_size=100, shuffle=True, num_workers=2)\n",
        "\n",
        "num_epochs = 10\n",
        "metric = torchmetrics.Accuracy()\n",
        "\n",
        "if __name__ == '__main__':\n",
        "  for epoch in range(num_epochs):\n",
        "    # for X, y in train_dataloader:\n",
        "    for i, data in enumerate(train_dataloader, 0):  # 上下两个循环等价\n",
        "      X, y = data  # 如果采用上一行循环，注释掉该句\n",
        "      y_hat = net(X)\n",
        "      l = loss(y_hat, y)\n",
        "      optim.zero_grad()\n",
        "      l.backward()\n",
        "      # print(net[0].weight.grad)\n",
        "      optim.step()\n",
        "      acc = metric(y_hat.softmax(dim = -1), y)\n",
        "    print(f\"loss {l.detach().item()}, accracy {acc.detach().item()}. \")"
      ],
      "execution_count": null,
      "outputs": []
    },
    {
      "cell_type": "code",
      "metadata": {
        "id": "9kUGiHpGXF20"
      },
      "source": [
        "test_x = torch.rand((1000, 72))\n",
        "test_y = torch.empty(1000, dtype=torch.long).random_(10)\n",
        "\n",
        "num_epochs = 10\n",
        "for epoch in range(num_epochs):\n",
        "  test_y_hat = net(test_x)\n",
        "  acc = metric(test_y_hat.softmax(dim = -1), test_y)\n",
        "  print(f\"accracy {acc.detach().item()}. \")"
      ],
      "execution_count": null,
      "outputs": []
    }
  ]
}